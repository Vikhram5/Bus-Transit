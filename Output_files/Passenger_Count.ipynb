{
 "cells": [
  {
   "cell_type": "code",
   "execution_count": 45,
   "id": "4d07a014",
   "metadata": {
    "scrolled": true
   },
   "outputs": [],
   "source": [
    "import pandas as pd\n",
    "df=pd.read_csv('04-02-19.csv')"
   ]
  },
  {
   "cell_type": "code",
   "execution_count": 46,
   "id": "b477c504",
   "metadata": {
    "scrolled": false
   },
   "outputs": [
    {
     "name": "stdout",
     "output_type": "stream",
     "text": [
      "       Schedule Name Trip Start Time Trip End Time   Source Destination  Duration  Passenger Count\n",
      "49288  519-K1-AS-MDE        00:00:00      00:53:00  T.NAGAR  THIRUPORUR  00:53:00               43\n",
      "49158  519-N1-AS-MDE        00:01:48      01:09:48  T.NAGAR  THIRUPORUR  01:08:00               24\n",
      "52921  519-X1-AS-MDE        00:01:50      01:46:50  T.NAGAR  THIRUPORUR  01:45:00               79\n",
      "49329  519-N1-AS-MDE        00:18:00      01:26:00  T.NAGAR  THIRUPORUR  01:08:00               91\n",
      "49271  519-K1-AS-MDE        00:21:00      02:15:00  T.NAGAR  THIRUPORUR  01:54:00               16\n",
      "50834  519-J1-AS-MDE        01:07:08      02:29:08  T.NAGAR  THIRUPORUR  01:22:00               41\n",
      "49270   519-Q-AS-MDE        01:10:00      01:37:00  T.NAGAR  THIRUPORUR  00:27:00               35\n",
      "49543  519-B1-AS-MDE        05:04:00      06:57:00  T.NAGAR  THIRUPORUR  01:53:00                8\n",
      "48902  519-A1-AS-MDE        05:22:10      06:25:10  T.NAGAR  THIRUPORUR  01:03:00               24\n",
      "49600   519-R-AS-MDE        05:37:46      06:26:46  T.NAGAR  THIRUPORUR  00:49:00                9\n",
      "49601  519-C1-AS-MDE        05:46:00      07:07:00  T.NAGAR  THIRUPORUR  01:21:00               12\n",
      "49590  519-D1-AS-MDE        05:59:00      07:23:00  T.NAGAR  THIRUPORUR  01:24:00               22\n",
      "49660  519-E1-AS-MDE        05:59:34      06:48:34  T.NAGAR  THIRUPORUR  00:49:00                9\n",
      "49877  519-H1-AS-MDE        06:03:00      07:34:00  T.NAGAR  THIRUPORUR  01:31:00               23\n",
      "49671  519-F1-AS-MDE        06:05:15      07:05:15  T.NAGAR  THIRUPORUR  01:00:00               24\n",
      "49779  519-G1-AS-MDE        06:06:00      07:57:00  T.NAGAR  THIRUPORUR  01:51:00               33\n",
      "49805  519-I1-AS-MDE        06:31:00      07:51:00  T.NAGAR  THIRUPORUR  01:20:00               32\n",
      "49781  519-M1-AS-MDE        06:35:00      08:22:00  T.NAGAR  THIRUPORUR  01:47:00               36\n",
      "49928  519-O1-AS-MDE        06:43:00      08:35:00  T.NAGAR  THIRUPORUR  01:52:00               26\n",
      "49983  519-T1-AS-MDE        06:44:00      09:04:00  T.NAGAR  THIRUPORUR  02:20:00               72\n",
      "50994  519-L1-AS-MDE        06:59:00      08:54:00  T.NAGAR  THIRUPORUR  01:55:00               54\n",
      "52309  519-V1-AS-MDE        07:12:00      09:08:00  T.NAGAR  THIRUPORUR  01:56:00               73\n",
      "52179   519-R-AS-MDE        07:44:00      09:40:00  T.NAGAR  THIRUPORUR  01:56:00               74\n",
      "53130  519-Z1-AS-MDE        08:05:00      10:23:00  T.NAGAR  THIRUPORUR  02:18:00              122\n",
      "48924  519-A1-AS-MDE        08:30:00      10:46:00  T.NAGAR  THIRUPORUR  02:16:00               78\n",
      "49088  519-B1-AS-MDE        08:41:00      10:58:00  T.NAGAR  THIRUPORUR  02:17:00              128\n",
      "49861  519-E1-AS-MDE        08:56:00      11:15:00  T.NAGAR  THIRUPORUR  02:19:00               96\n",
      "50437  519-C1-AS-MDE        09:06:00      10:57:00  T.NAGAR  THIRUPORUR  01:51:00               91\n",
      "50358  519-X1-AS-MDE        09:09:45      10:59:45  T.NAGAR  THIRUPORUR  01:50:00               97\n",
      "49684  519-D1-AS-MDE        09:17:00      11:26:00  T.NAGAR  THIRUPORUR  02:09:00               93\n",
      "50593  519-F1-AS-MDE        09:32:00      11:23:00  T.NAGAR  THIRUPORUR  01:51:00               97\n",
      "50397  519-H1-AS-MDE        09:57:00      11:44:00  T.NAGAR  THIRUPORUR  01:47:00               64\n",
      "50646  519-I1-AS-MDE        10:12:00      12:00:00  T.NAGAR  THIRUPORUR  01:48:00               49\n",
      "50939   519-S-AS-MDE        10:15:17      11:57:17  T.NAGAR  THIRUPORUR  01:42:00               53\n",
      "52743  519-W1-AS-MDE        10:21:36      11:50:36  T.NAGAR  THIRUPORUR  01:29:00               48\n",
      "50877  519-G1-AS-MDE        10:40:00      12:32:00  T.NAGAR  THIRUPORUR  01:52:00               53\n",
      "50921  519-O1-AS-MDE        10:50:48      12:28:48  T.NAGAR  THIRUPORUR  01:38:00               31\n",
      "51183  519-M1-AS-MDE        10:50:55      12:29:55  T.NAGAR  THIRUPORUR  01:39:00               36\n",
      "51020  519-L1-AS-MDE        11:04:00      13:02:00  T.NAGAR  THIRUPORUR  01:58:00               42\n",
      "52389  519-V1-AS-MDE        11:22:00      13:11:00  T.NAGAR  THIRUPORUR  01:49:00               25\n",
      "51082   519-Q-AS-MDE        11:26:00      13:11:00  T.NAGAR  THIRUPORUR  01:45:00               20\n",
      "52242   519-R-AS-MDE        11:28:00      13:13:00  T.NAGAR  THIRUPORUR  01:45:00               44\n",
      "51016  519-T1-AS-MDE        11:39:58      13:10:58  T.NAGAR  THIRUPORUR  01:31:00               26\n",
      "51186  519-A1-AS-MDE        12:41:00      14:29:00  T.NAGAR  THIRUPORUR  01:48:00               94\n",
      "49243  519-B1-AS-MDE        12:54:20      14:35:20  T.NAGAR  THIRUPORUR  01:41:00               93\n",
      "51322  519-E1-AS-MDE        13:00:00      14:51:00  T.NAGAR  THIRUPORUR  01:51:00               83\n",
      "51195  519-C1-AS-MDE        13:12:00      14:37:00  T.NAGAR  THIRUPORUR  01:25:00               74\n",
      "53019  519-X1-AS-MDE        13:12:34      14:37:34  T.NAGAR  THIRUPORUR  01:25:00               94\n",
      "49723  519-D1-AS-MDE        13:15:00      14:58:00  T.NAGAR  THIRUPORUR  01:43:00               49\n",
      "50100  519-F1-AS-MDE        13:39:16      14:50:16  T.NAGAR  THIRUPORUR  01:11:00               45\n",
      "51569  519-W1-AS-MDE        13:40:00      15:34:00  T.NAGAR  THIRUPORUR  01:54:00               39\n",
      "51347  519-H1-AS-MDE        13:40:00      15:10:00  T.NAGAR  THIRUPORUR  01:30:00               46\n",
      "51329  519-Z1-AS-MDE        13:46:00      15:17:00  T.NAGAR  THIRUPORUR  01:31:00               54\n",
      "51858   519-S-AS-MDE        13:50:00      15:48:00  T.NAGAR  THIRUPORUR  01:58:00               22\n",
      "51383  519-I1-AS-MDE        13:53:00      15:35:00  T.NAGAR  THIRUPORUR  01:42:00               85\n",
      "51797  519-O1-AS-MDE        14:13:00      16:27:00  T.NAGAR  THIRUPORUR  02:14:00               65\n",
      "50309  519-G1-AS-MDE        14:15:00      15:57:00  T.NAGAR  THIRUPORUR  01:42:00               40\n",
      "51223  519-M1-AS-MDE        14:18:00      15:45:00  T.NAGAR  THIRUPORUR  01:27:00               57\n",
      "51734   519-Q-AS-MDE        14:59:00      16:46:00  T.NAGAR  THIRUPORUR  01:47:00               79\n",
      "52430  519-V1-AS-MDE        15:04:00      16:52:00  T.NAGAR  THIRUPORUR  01:48:00               71\n",
      "51714  519-L1-AS-MDE        15:05:40      16:34:40  T.NAGAR  THIRUPORUR  01:29:00               26\n",
      "53364  519-X1-AS-MDE        15:39:09      17:11:09  T.NAGAR  THIRUPORUR  01:32:00               61\n",
      "52205  519-A1-AS-MDE        16:13:51      18:08:51  T.NAGAR  THIRUPORUR  01:55:00               73\n",
      "52005  519-B1-AS-MDE        16:19:38      18:16:38  T.NAGAR  THIRUPORUR  01:57:00               66\n",
      "49959  519-E1-AS-MDE        16:32:00      18:38:00  T.NAGAR  THIRUPORUR  02:06:00               88\n",
      "52040  519-C1-AS-MDE        16:32:00      18:08:00  T.NAGAR  THIRUPORUR  01:36:00               33\n",
      "52279  519-F1-AS-MDE        16:38:00      18:37:00  T.NAGAR  THIRUPORUR  01:59:00               92\n",
      "52419  519-X1-AS-MDE        16:39:35      18:11:35  T.NAGAR  THIRUPORUR  01:32:00               48\n",
      "52604  519-D1-AS-MDE        16:44:00      18:45:00  T.NAGAR  THIRUPORUR  02:01:00               70\n",
      "52420  519-H1-AS-MDE        17:01:00      18:59:00  T.NAGAR  THIRUPORUR  01:58:00               83\n",
      "52618  519-Z1-AS-MDE        17:22:00      19:13:00  T.NAGAR  THIRUPORUR  01:51:00               92\n",
      "52719  519-I1-AS-MDE        17:27:00      19:12:00  T.NAGAR  THIRUPORUR  01:45:00               99\n",
      "52777  519-W1-AS-MDE        17:35:00      19:33:00  T.NAGAR  THIRUPORUR  01:58:00               64\n",
      "53176   519-S-AS-MDE        17:51:00      20:39:00  T.NAGAR  THIRUPORUR  02:48:00               97\n",
      "51254  519-M1-AS-MDE        18:06:58      18:49:58  T.NAGAR  THIRUPORUR  00:43:00               12\n",
      "51626  519-O1-AS-MDE        18:10:35      20:13:35  T.NAGAR  THIRUPORUR  02:03:00               90\n",
      "51107  519-L1-AS-MDE        18:50:00      21:06:00  T.NAGAR  THIRUPORUR  02:16:00              101\n",
      "51774   519-R-AS-MDE        18:53:00      20:59:00  T.NAGAR  THIRUPORUR  02:06:00               73\n",
      "52117   519-Q-AS-MDE        18:59:00      21:03:00  T.NAGAR  THIRUPORUR  02:04:00               77\n",
      "53179  519-T1-AS-MDE        19:01:47      21:05:47  T.NAGAR  THIRUPORUR  02:04:00               94\n",
      "52504  519-V1-AS-MDE        19:19:00      21:13:00  T.NAGAR  THIRUPORUR  01:54:00               72\n",
      "53335  519-X1-AS-MDE        19:25:56      21:26:56  T.NAGAR  THIRUPORUR  02:01:00               62\n",
      "49586  519-C1-AS-MDE        20:33:56      21:01:56  T.NAGAR  THIRUPORUR  00:28:00                5\n",
      "53412  519-W1-AS-MDE        21:27:02      22:47:02  T.NAGAR  THIRUPORUR  01:20:00               72\n",
      "53452   519-S-AS-MDE        22:22:32      23:25:32  T.NAGAR  THIRUPORUR  01:03:00               60\n"
     ]
    }
   ],
   "source": [
    "df=df[df['Schedule Name'].str.contains(r'\\b519\\b')]\n",
    "\n",
    "df=df[(df['Source']=='T.NAGAR') & (df['Destination']=='THIRUPORUR')]\n",
    "df['Trip Start Time'] = pd.to_datetime(df['Trip Start Time'], format='%H:%M:%S')\n",
    "df['Trip End Time'] = pd.to_datetime(df['Trip End Time'], format='%H:%M:%S')\n",
    "\n",
    "cols=['Schedule Name','Adult','Trip Start Time','Trip End Time','Source','Destination']\n",
    "#sort based on trip start time \n",
    "df=df.sort_values(by='Trip Start Time')\n",
    "df=df[cols]\n",
    "\n",
    "# Calculate duration\n",
    "df['Duration'] = df['Trip End Time'] - df['Trip Start Time']\n",
    "df['Trip Start Time'] = df['Trip Start Time'].dt.time\n",
    "df['Trip End Time'] = df['Trip End Time'].dt.time\n",
    "df['Duration'] = df['Duration'].apply(lambda x: str(x).split()[-1])\n",
    "df['Passenger Count'] = df.groupby(['Schedule Name', 'Trip Start Time', 'Trip End Time'])['Adult'].transform('sum')\n",
    "\n",
    "df=df.drop(columns=['Adult'])\n",
    "df = df[~df['Duration'].str.contains('+', regex=False)]\n",
    "df = df[(df['Duration'] != '00:00:00') & (df['Duration'] != '00:01:00')]\n",
    "\n",
    "df=df.drop_duplicates()\n",
    "print(df.to_string())\n"
   ]
  },
  {
   "cell_type": "code",
   "execution_count": 47,
   "id": "f2f496d7",
   "metadata": {},
   "outputs": [],
   "source": [
    "df.to_excel('passenger_count.xlsx')"
   ]
  },
  {
   "cell_type": "code",
   "execution_count": null,
   "id": "65514900",
   "metadata": {},
   "outputs": [],
   "source": []
  }
 ],
 "metadata": {
  "kernelspec": {
   "display_name": "Python 3 (ipykernel)",
   "language": "python",
   "name": "python3"
  },
  "language_info": {
   "codemirror_mode": {
    "name": "ipython",
    "version": 3
   },
   "file_extension": ".py",
   "mimetype": "text/x-python",
   "name": "python",
   "nbconvert_exporter": "python",
   "pygments_lexer": "ipython3",
   "version": "3.11.5"
  }
 },
 "nbformat": 4,
 "nbformat_minor": 5
}
