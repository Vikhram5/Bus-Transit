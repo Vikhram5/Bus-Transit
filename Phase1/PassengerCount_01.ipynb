{
 "cells": [
  {
   "cell_type": "code",
   "execution_count": 11,
   "id": "19c7f1d2",
   "metadata": {
    "scrolled": true
   },
   "outputs": [
    {
     "name": "stdout",
     "output_type": "stream",
     "text": [
      "Enter File Name: 04-02-19.csv\n",
      "Enter 'up' or 'down': up\n"
     ]
    }
   ],
   "source": [
    "import pandas as pd\n",
    "import numpy as np\n",
    "import os \n",
    "\n",
    "#input for any file name\n",
    "file_name=input(\"Enter File Name: \")\n",
    "journey=input(\"Enter 'up' or 'down': \").lower()\n",
    "file_path=os.path.join('week_data',journey, file_name)\n",
    "\n",
    "if not os.path.isfile(file_path):\n",
    "    print(f\"Error: File '{file_name}' does not exist.\")\n",
    "else:\n",
    "    df=pd.read_csv(file_path)"
   ]
  },
  {
   "cell_type": "code",
   "execution_count": 12,
   "id": "60bc1229",
   "metadata": {},
   "outputs": [
    {
     "name": "stdout",
     "output_type": "stream",
     "text": [
      "Enter bus Number: 519\n"
     ]
    }
   ],
   "source": [
    "#Only 519 buses\n",
    "bus_no = int(input(\"Enter bus Number: \"))\n",
    "df = df[df['Schedule Name'].str.contains(rf'\\b{bus_no}\\b')]"
   ]
  },
  {
   "cell_type": "code",
   "execution_count": 13,
   "id": "7c8413ee",
   "metadata": {
    "scrolled": true
   },
   "outputs": [
    {
     "name": "stdout",
     "output_type": "stream",
     "text": [
      "Enter source: T.NAGAR\n",
      "Enter destination: THIRUPORUR\n"
     ]
    },
    {
     "data": {
      "text/html": [
       "<div>\n",
       "<style scoped>\n",
       "    .dataframe tbody tr th:only-of-type {\n",
       "        vertical-align: middle;\n",
       "    }\n",
       "\n",
       "    .dataframe tbody tr th {\n",
       "        vertical-align: top;\n",
       "    }\n",
       "\n",
       "    .dataframe thead th {\n",
       "        text-align: right;\n",
       "    }\n",
       "</style>\n",
       "<table border=\"1\" class=\"dataframe\">\n",
       "  <thead>\n",
       "    <tr style=\"text-align: right;\">\n",
       "      <th></th>\n",
       "      <th>Schedule Name</th>\n",
       "      <th>Trip Start Time</th>\n",
       "      <th>Trip End Time</th>\n",
       "      <th>Source</th>\n",
       "      <th>Destination</th>\n",
       "      <th>Passenger Count</th>\n",
       "    </tr>\n",
       "  </thead>\n",
       "  <tbody>\n",
       "    <tr>\n",
       "      <th>47724</th>\n",
       "      <td>519-K1-AS-MDE</td>\n",
       "      <td>00:00:00</td>\n",
       "      <td>00:53:00</td>\n",
       "      <td>T.NAGAR</td>\n",
       "      <td>THIRUPORUR</td>\n",
       "      <td>43</td>\n",
       "    </tr>\n",
       "    <tr>\n",
       "      <th>47586</th>\n",
       "      <td>519-N1-AS-MDE</td>\n",
       "      <td>00:01:48</td>\n",
       "      <td>01:09:48</td>\n",
       "      <td>T.NAGAR</td>\n",
       "      <td>THIRUPORUR</td>\n",
       "      <td>24</td>\n",
       "    </tr>\n",
       "    <tr>\n",
       "      <th>51267</th>\n",
       "      <td>519-X1-AS-MDE</td>\n",
       "      <td>00:01:50</td>\n",
       "      <td>01:46:50</td>\n",
       "      <td>T.NAGAR</td>\n",
       "      <td>THIRUPORUR</td>\n",
       "      <td>79</td>\n",
       "    </tr>\n",
       "    <tr>\n",
       "      <th>49818</th>\n",
       "      <td>519-N1-AS-MDE</td>\n",
       "      <td>00:18:00</td>\n",
       "      <td>01:26:00</td>\n",
       "      <td>T.NAGAR</td>\n",
       "      <td>THIRUPORUR</td>\n",
       "      <td>91</td>\n",
       "    </tr>\n",
       "    <tr>\n",
       "      <th>47802</th>\n",
       "      <td>519-K1-AS-MDE</td>\n",
       "      <td>00:21:00</td>\n",
       "      <td>02:15:00</td>\n",
       "      <td>T.NAGAR</td>\n",
       "      <td>THIRUPORUR</td>\n",
       "      <td>16</td>\n",
       "    </tr>\n",
       "    <tr>\n",
       "      <th>...</th>\n",
       "      <td>...</td>\n",
       "      <td>...</td>\n",
       "      <td>...</td>\n",
       "      <td>...</td>\n",
       "      <td>...</td>\n",
       "      <td>...</td>\n",
       "    </tr>\n",
       "    <tr>\n",
       "      <th>50863</th>\n",
       "      <td>519-V1-AS-MDE</td>\n",
       "      <td>19:19:00</td>\n",
       "      <td>21:13:00</td>\n",
       "      <td>T.NAGAR</td>\n",
       "      <td>THIRUPORUR</td>\n",
       "      <td>72</td>\n",
       "    </tr>\n",
       "    <tr>\n",
       "      <th>51710</th>\n",
       "      <td>519-X1-AS-MDE</td>\n",
       "      <td>19:25:56</td>\n",
       "      <td>21:26:56</td>\n",
       "      <td>T.NAGAR</td>\n",
       "      <td>THIRUPORUR</td>\n",
       "      <td>62</td>\n",
       "    </tr>\n",
       "    <tr>\n",
       "      <th>48056</th>\n",
       "      <td>519-C1-AS-MDE</td>\n",
       "      <td>20:33:56</td>\n",
       "      <td>21:01:56</td>\n",
       "      <td>T.NAGAR</td>\n",
       "      <td>THIRUPORUR</td>\n",
       "      <td>5</td>\n",
       "    </tr>\n",
       "    <tr>\n",
       "      <th>51204</th>\n",
       "      <td>519-W1-AS-MDE</td>\n",
       "      <td>21:27:02</td>\n",
       "      <td>22:47:02</td>\n",
       "      <td>T.NAGAR</td>\n",
       "      <td>THIRUPORUR</td>\n",
       "      <td>72</td>\n",
       "    </tr>\n",
       "    <tr>\n",
       "      <th>51796</th>\n",
       "      <td>519-S-AS-MDE</td>\n",
       "      <td>22:22:32</td>\n",
       "      <td>23:25:32</td>\n",
       "      <td>T.NAGAR</td>\n",
       "      <td>THIRUPORUR</td>\n",
       "      <td>60</td>\n",
       "    </tr>\n",
       "  </tbody>\n",
       "</table>\n",
       "<p>85 rows × 6 columns</p>\n",
       "</div>"
      ],
      "text/plain": [
       "       Schedule Name Trip Start Time Trip End Time   Source Destination  \\\n",
       "47724  519-K1-AS-MDE        00:00:00      00:53:00  T.NAGAR  THIRUPORUR   \n",
       "47586  519-N1-AS-MDE        00:01:48      01:09:48  T.NAGAR  THIRUPORUR   \n",
       "51267  519-X1-AS-MDE        00:01:50      01:46:50  T.NAGAR  THIRUPORUR   \n",
       "49818  519-N1-AS-MDE        00:18:00      01:26:00  T.NAGAR  THIRUPORUR   \n",
       "47802  519-K1-AS-MDE        00:21:00      02:15:00  T.NAGAR  THIRUPORUR   \n",
       "...              ...             ...           ...      ...         ...   \n",
       "50863  519-V1-AS-MDE        19:19:00      21:13:00  T.NAGAR  THIRUPORUR   \n",
       "51710  519-X1-AS-MDE        19:25:56      21:26:56  T.NAGAR  THIRUPORUR   \n",
       "48056  519-C1-AS-MDE        20:33:56      21:01:56  T.NAGAR  THIRUPORUR   \n",
       "51204  519-W1-AS-MDE        21:27:02      22:47:02  T.NAGAR  THIRUPORUR   \n",
       "51796   519-S-AS-MDE        22:22:32      23:25:32  T.NAGAR  THIRUPORUR   \n",
       "\n",
       "       Passenger Count  \n",
       "47724               43  \n",
       "47586               24  \n",
       "51267               79  \n",
       "49818               91  \n",
       "47802               16  \n",
       "...                ...  \n",
       "50863               72  \n",
       "51710               62  \n",
       "48056                5  \n",
       "51204               72  \n",
       "51796               60  \n",
       "\n",
       "[85 rows x 6 columns]"
      ]
     },
     "execution_count": 13,
     "metadata": {},
     "output_type": "execute_result"
    }
   ],
   "source": [
    "df=df[(df['Source']=='T.NAGAR') & (df['Destination']=='THIRUPORUR')]\n",
    "\n",
    "source_stage=input(\"Enter source: \")\n",
    "destination_stage=input(\"Enter destination: \")\n",
    "df=df[(df['Source']==source_stage) & (df['Destination']==destination_stage)]\n",
    "\n",
    "cols=['Schedule Name','Adult','Trip Start Time','Trip End Time','Source','Destination']\n",
    "#sort based on trip start time \n",
    "df=df.sort_values(by='Trip Start Time')\n",
    "df=df[cols]\n",
    "df['Passenger Count'] = df.groupby(['Schedule Name', 'Trip Start Time', 'Trip End Time'])['Adult'].transform('sum')\n",
    "\n",
    "df=df.drop(columns=['Adult'])\n",
    "df=df.drop_duplicates()\n",
    "df"
   ]
  },
  {
   "cell_type": "code",
   "execution_count": null,
   "id": "66634a28",
   "metadata": {},
   "outputs": [],
   "source": []
  },
  {
   "cell_type": "code",
   "execution_count": null,
   "id": "ce87cf41",
   "metadata": {},
   "outputs": [],
   "source": []
  },
  {
   "cell_type": "code",
   "execution_count": null,
   "id": "23a813b9",
   "metadata": {},
   "outputs": [],
   "source": []
  },
  {
   "cell_type": "code",
   "execution_count": null,
   "id": "166ba3af",
   "metadata": {},
   "outputs": [],
   "source": []
  }
 ],
 "metadata": {
  "kernelspec": {
   "display_name": "Python 3 (ipykernel)",
   "language": "python",
   "name": "python3"
  },
  "language_info": {
   "codemirror_mode": {
    "name": "ipython",
    "version": 3
   },
   "file_extension": ".py",
   "mimetype": "text/x-python",
   "name": "python",
   "nbconvert_exporter": "python",
   "pygments_lexer": "ipython3",
   "version": "3.11.5"
  }
 },
 "nbformat": 4,
 "nbformat_minor": 5
}
