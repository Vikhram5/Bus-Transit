{
 "cells": [
  {
   "cell_type": "code",
   "execution_count": 1,
   "id": "16eff5ae",
   "metadata": {},
   "outputs": [],
   "source": [
    "import pandas as pd\n",
    "df=pd.read_csv('04_02_2019.csv')\n",
    "\n",
    "#data replacing\n",
    "\n",
    "#Optimised code \n",
    "\n",
    "rename_stages = {\n",
    "    'THORAIPAKK': 'THORAIPAKKAM',\n",
    "    'ANNA UNIVE': 'ANNA UNIV',\n",
    "    'MOOTAIKARA': 'M K CHAVADI',\n",
    "    'SHOZHANGAN|SHOZHINGAN': 'SHOLINGANALLUR',\n",
    "    'KOMAN NGR': 'KUMARAN NG',\n",
    "    'M.K. CHAVA': 'M K CHAVADI',\n",
    "    'WOMENS POL': 'WPTC',\n",
    "    'THIRUPPORU': 'THIRUPORUR'\n",
    "}\n",
    "\n",
    "df = df.replace(rename_stages, regex=True)"
   ]
  },
  {
   "cell_type": "code",
   "execution_count": 2,
   "id": "2fa45398",
   "metadata": {},
   "outputs": [
    {
     "name": "stdout",
     "output_type": "stream",
     "text": [
      "Enter Schedule Name: 519-E1-AS-MDE\n",
      "Enter Trip Start Time 08:56:00\n",
      "Enter Trip End Time 11:15:00\n"
     ]
    },
    {
     "data": {
      "text/html": [
       "<div>\n",
       "<style scoped>\n",
       "    .dataframe tbody tr th:only-of-type {\n",
       "        vertical-align: middle;\n",
       "    }\n",
       "\n",
       "    .dataframe tbody tr th {\n",
       "        vertical-align: top;\n",
       "    }\n",
       "\n",
       "    .dataframe thead th {\n",
       "        text-align: right;\n",
       "    }\n",
       "</style>\n",
       "<table border=\"1\" class=\"dataframe\">\n",
       "  <thead>\n",
       "    <tr style=\"text-align: right;\">\n",
       "      <th></th>\n",
       "      <th>From Stage</th>\n",
       "      <th>To Stage</th>\n",
       "      <th>Adult</th>\n",
       "    </tr>\n",
       "  </thead>\n",
       "  <tbody>\n",
       "    <tr>\n",
       "      <th>49827</th>\n",
       "      <td>T.NAGAR</td>\n",
       "      <td>WPTC</td>\n",
       "      <td>2</td>\n",
       "    </tr>\n",
       "    <tr>\n",
       "      <th>49828</th>\n",
       "      <td>T.NAGAR</td>\n",
       "      <td>SRP TOOLS</td>\n",
       "      <td>1</td>\n",
       "    </tr>\n",
       "    <tr>\n",
       "      <th>49829</th>\n",
       "      <td>T.NAGAR</td>\n",
       "      <td>SRP TOOLS</td>\n",
       "      <td>1</td>\n",
       "    </tr>\n",
       "    <tr>\n",
       "      <th>49830</th>\n",
       "      <td>T.NAGAR</td>\n",
       "      <td>WPTC</td>\n",
       "      <td>1</td>\n",
       "    </tr>\n",
       "    <tr>\n",
       "      <th>49831</th>\n",
       "      <td>T.NAGAR</td>\n",
       "      <td>SRP TOOLS</td>\n",
       "      <td>1</td>\n",
       "    </tr>\n",
       "    <tr>\n",
       "      <th>...</th>\n",
       "      <td>...</td>\n",
       "      <td>...</td>\n",
       "      <td>...</td>\n",
       "    </tr>\n",
       "    <tr>\n",
       "      <th>50743</th>\n",
       "      <td>NAVALUR</td>\n",
       "      <td>KELAMBAKKA</td>\n",
       "      <td>2</td>\n",
       "    </tr>\n",
       "    <tr>\n",
       "      <th>50783</th>\n",
       "      <td>NAVALUR</td>\n",
       "      <td>KELAMBAKKA</td>\n",
       "      <td>1</td>\n",
       "    </tr>\n",
       "    <tr>\n",
       "      <th>50785</th>\n",
       "      <td>NAVALUR</td>\n",
       "      <td>THIRUPORUR</td>\n",
       "      <td>1</td>\n",
       "    </tr>\n",
       "    <tr>\n",
       "      <th>50786</th>\n",
       "      <td>NAVALUR</td>\n",
       "      <td>KELAMBAKKA</td>\n",
       "      <td>1</td>\n",
       "    </tr>\n",
       "    <tr>\n",
       "      <th>50825</th>\n",
       "      <td>KALAVAKKAM</td>\n",
       "      <td>THIRUPORUR</td>\n",
       "      <td>1</td>\n",
       "    </tr>\n",
       "  </tbody>\n",
       "</table>\n",
       "<p>86 rows × 3 columns</p>\n",
       "</div>"
      ],
      "text/plain": [
       "       From Stage    To Stage  Adult\n",
       "49827     T.NAGAR        WPTC      2\n",
       "49828     T.NAGAR   SRP TOOLS      1\n",
       "49829     T.NAGAR   SRP TOOLS      1\n",
       "49830     T.NAGAR        WPTC      1\n",
       "49831     T.NAGAR   SRP TOOLS      1\n",
       "...           ...         ...    ...\n",
       "50743     NAVALUR  KELAMBAKKA      2\n",
       "50783     NAVALUR  KELAMBAKKA      1\n",
       "50785     NAVALUR  THIRUPORUR      1\n",
       "50786     NAVALUR  KELAMBAKKA      1\n",
       "50825  KALAVAKKAM  THIRUPORUR      1\n",
       "\n",
       "[86 rows x 3 columns]"
      ]
     },
     "execution_count": 2,
     "metadata": {},
     "output_type": "execute_result"
    }
   ],
   "source": [
    "\n",
    "df['Source'] = df['Source'].str.strip()\n",
    "df['From Stage'] = df['From Stage'].str.strip()\n",
    "df['To Stage'] = df['To Stage'].str.strip()\n",
    "cols=['Schedule Name','Adult','From Stage','To Stage','Trip Start Time','Trip End Time','Source','Destination']\n",
    "df=df[cols]\n",
    "\n",
    "name=input(\"Enter Schedule Name: \")\n",
    "#source=input(\"Enter Source: \")\n",
    "#destination=input(\"Enter Destination: \")\n",
    "start_time=input(\"Enter Trip Start Time \")\n",
    "end_time=input(\"Enter Trip End Time \")\n",
    "df=df[df['Schedule Name']==name]\n",
    "df=df[(df['Source'] == 'T.NAGAR') & (df['Destination']=='THIRUPORUR')]\n",
    "df=df[(df['Trip Start Time']==start_time) & (df['Trip End Time']==end_time)]\n",
    "\n",
    "cols=['From Stage','To Stage','Adult']\n",
    "df=df[cols]\n",
    "df"
   ]
  },
  {
   "cell_type": "code",
   "execution_count": 3,
   "id": "3ecac1d3",
   "metadata": {},
   "outputs": [
    {
     "data": {
      "text/plain": [
       "array(['T.NAGAR', 'SAIDAPET', 'ANNA UNIV', 'THORAIPAKKAM', 'CHURCH',\n",
       "       'WPTC', 'M K CHAVADI', 'KARAPAKKAM', 'SHOLINGANALLUR',\n",
       "       'KUMARAN NG', 'CHEMMANCHE', 'NAVALUR', 'KALAVAKKAM'], dtype=object)"
      ]
     },
     "execution_count": 3,
     "metadata": {},
     "output_type": "execute_result"
    }
   ],
   "source": [
    "#displaying from_stages \n",
    "arr1=df['From Stage'].unique()\n",
    "arr1"
   ]
  },
  {
   "cell_type": "code",
   "execution_count": 4,
   "id": "9db1e7fd",
   "metadata": {
    "scrolled": true
   },
   "outputs": [
    {
     "data": {
      "text/plain": [
       "array(['WPTC', 'SRP TOOLS', 'KELAMBAKKA', 'THORAIPAKKAM', 'CHURCH',\n",
       "       'SHOLINGANALLUR', 'HINDUSTAN', 'SAIDAPET', 'THIRUPORUR',\n",
       "       'KANDANCHAV', 'KARAPAKKAM', 'M K CHAVADI', 'PAL. CHEMI',\n",
       "       'KALAVAKKAM', 'NAVALUR', 'KUMARAN NG', 'CHENGAMMAL'], dtype=object)"
      ]
     },
     "execution_count": 4,
     "metadata": {},
     "output_type": "execute_result"
    }
   ],
   "source": [
    "arr2=df['To Stage'].unique()\n",
    "arr2"
   ]
  },
  {
   "cell_type": "code",
   "execution_count": 5,
   "id": "5df774c4",
   "metadata": {},
   "outputs": [
    {
     "name": "stdout",
     "output_type": "stream",
     "text": [
      "           0  1  2  3   4  5  6  7   8  9  10  11  12  13  14  15  16  17  18  19  20  21  22  Boarding\n",
      "0          0  2  0  5   7  1  1  1   5  1   0   0   0   0   5   0   1   1   0   0   0   0   1        31\n",
      "1          0  0  0  0   0  1  1  0   1  1   0   0   0   0   0   0   0   0   0   0   0   0   0         4\n",
      "2          0  0  0  0   3  1  0  0   0  0   0   0   0   0   1   0   0   0   0   0   0   0   0         5\n",
      "3          0  0  0  0   0  1  0  3   4  0   0   0   1   0   0   0   0   1   0   0   0   0   3        13\n",
      "4          0  0  0  0   0  0  0  0   0  0   0   0   0   0   0   0   0   0   0   0   0   0   0         0\n",
      "5          0  0  0  0   0  0  0  0   0  0   0   0   0   0   0   0   0   0   0   0   0   0   0         0\n",
      "6          0  0  0  0   0  0  0  1   0  1   1   0   4   0   0   1   0   0   0   0   0   0   0         8\n",
      "7          0  0  0  0   0  0  0  0   0  1   0   0   1   0   0   0   0   3   0   0   0   0   0         5\n",
      "8          0  0  0  0   0  0  0  0   0  0   1   0   2   0   0   0   0   0   0   0   0   0   0         3\n",
      "9          0  0  0  0   0  0  0  0   0  0   0   0   5   0   0   0   0   5   0   0   0   0   2        12\n",
      "10         0  0  0  0   0  0  0  0   0  0   0   0   0   0   0   0   0   1   0   0   0   0   2         3\n",
      "11         0  0  0  0   0  0  0  0   0  0   0   0   0   0   0   0   0   1   0   0   1   0   0         2\n",
      "12         0  0  0  0   0  0  0  0   0  0   0   0   0   0   0   0   0   4   0   0   0   0   2         6\n",
      "13         0  0  0  0   0  0  0  0   0  0   0   0   0   0   0   0   0   0   0   0   0   0   0         0\n",
      "14         0  0  0  0   0  0  0  0   0  0   0   0   0   0   0   0   1   1   0   0   0   1   0         3\n",
      "15         0  0  0  0   0  0  0  0   0  0   0   0   0   0   0   0   0   0   0   0   0   0   0         0\n",
      "16         0  0  0  0   0  0  0  0   0  0   0   0   0   0   0   0   0   0   0   0   0   0   0         0\n",
      "17         0  0  0  0   0  0  0  0   0  0   0   0   0   0   0   0   0   0   0   0   0   0   0         0\n",
      "18         0  0  0  0   0  0  0  0   0  0   0   0   0   0   0   0   0   0   0   0   0   0   0         0\n",
      "19         0  0  0  0   0  0  0  0   0  0   0   0   0   0   0   0   0   0   0   0   0   0   0         0\n",
      "20         0  0  0  0   0  0  0  0   0  0   0   0   0   0   0   0   0   0   0   0   0   0   0         0\n",
      "21         0  0  0  0   0  0  0  0   0  0   0   0   0   0   0   0   0   0   0   0   0   0   1         1\n",
      "22         0  0  0  0   0  0  0  0   0  0   0   0   0   0   0   0   0   0   0   0   0   0   0         0\n",
      "ALIGHTING  0  2  0  5  10  4  2  5  10  4   2   0  13   0   6   1   2  17   0   0   1   1  11        96\n"
     ]
    }
   ],
   "source": [
    "import pandas as pd\n",
    "\n",
    "bus_stages = [\n",
    "    'T.NAGAR', 'SAIDAPET', 'ANNA UNIV', 'WPTC', 'SRP TOOLS',\n",
    "    'KANDANCHAV', 'THORAIPAKKAM', 'M K CHAVADI', 'KARAPAKKAM',\n",
    "    'SHOLINGANALLUR', 'KUMARAN NG', 'CHEMMANCHE', 'NAVALUR',\n",
    "    'SIPCOT', 'CHURCH', 'PAL. CHEMI', 'HINDUSTAN', 'KELAMBAKKA',\n",
    "    'KOMAN NAGAR', 'ENGG', 'CHENGAMMAL', 'KALAVAKKAM','THIRUPORUR'\n",
    "]\n",
    "\n",
    "stage_mapping = {stage: i for i, stage in enumerate(bus_stages)}\n",
    "\n",
    "df['From Stage'] = df['From Stage'].map(stage_mapping)\n",
    "df['To Stage'] = df['To Stage'].map(stage_mapping)\n",
    "\n",
    "df.dropna(subset=['From Stage', 'To Stage'], inplace=True)\n",
    "\n",
    "#create an empty OD matrix\n",
    "od_matrix = pd.DataFrame(index=range(len(bus_stages)), columns=range(len(bus_stages))).fillna(0)\n",
    "\n",
    "# populating the matrix \n",
    "for index, row in df.iterrows():\n",
    "    source = int(row['From Stage'])\n",
    "    destination = int(row['To Stage'])\n",
    "    adult_count = row['Adult']\n",
    "    od_matrix.loc[source, destination] += adult_count if not pd.isna(adult_count) else 0\n",
    "\n",
    "od_matrix['Boarding'] = od_matrix.sum(axis=1)\n",
    "od_matrix.loc['ALIGHTING'] = od_matrix.sum(axis=0)\n",
    "\n",
    "#display the entire df\n",
    "print(od_matrix.to_string())\n"
   ]
  },
  {
   "cell_type": "code",
   "execution_count": null,
   "id": "720ea069",
   "metadata": {},
   "outputs": [],
   "source": []
  },
  {
   "cell_type": "code",
   "execution_count": null,
   "id": "c583f80d",
   "metadata": {},
   "outputs": [],
   "source": []
  }
 ],
 "metadata": {
  "kernelspec": {
   "display_name": "Python 3 (ipykernel)",
   "language": "python",
   "name": "python3"
  },
  "language_info": {
   "codemirror_mode": {
    "name": "ipython",
    "version": 3
   },
   "file_extension": ".py",
   "mimetype": "text/x-python",
   "name": "python",
   "nbconvert_exporter": "python",
   "pygments_lexer": "ipython3",
   "version": "3.11.5"
  }
 },
 "nbformat": 4,
 "nbformat_minor": 5
}
